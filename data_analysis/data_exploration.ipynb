{
 "cells": [
  {
   "cell_type": "code",
   "execution_count": 29,
   "metadata": {
    "collapsed": true
   },
   "outputs": [],
   "source": [
    "import numpy as np\n",
    "import pandas as pd\n",
    "import matplotlib.pyplot as plt\n",
    "from tqdm import tqdm"
   ]
  },
  {
   "cell_type": "code",
   "execution_count": 9,
   "outputs": [],
   "source": [
    "data = pd.read_csv(\"../data/initial/train_logs.csv\")"
   ],
   "metadata": {
    "collapsed": false
   }
  },
  {
   "cell_type": "code",
   "execution_count": 89,
   "outputs": [],
   "source": [
    "def clean_df(input_df):\n",
    "    ACTIVITY_KEEP = [\"Input\", \"Remove/Cut\", \"Nonproduction\", \"Replace\", \"Paste\", \"Move\"]\n",
    "    DOWN_EVENT_KEEP = [\"q\", \"Space\", \"Backspace\", \"Shift\", \"ArrowRight\", \"Leftclick\", \"ArrowLeft\",\n",
    "                       \".\", \",\", \"ArrowDown\", \"ArrowUp\", \"Enter\", \"CapsLock\", \"'\", \"Delete\", \"Unidentified\",\n",
    "                       \"Control\", \"\\\"\", \"-\", \"?\", \";\", \"=\", \"Tab\", \"/\", \"Rightclick\", \":\", \"(\", \")\", \"\\\\\",\n",
    "                       \"ContextMenu\", \"End\", \"!\", \"Meta\", \"Alt\", \"[\", \"c\", \"v\", \"MinorKey\"]\n",
    "    TEXT_CHANGE_KEEP = [\"q\", \"\", \"NoChange\", \".\", \",\", \"\\\\n\", \"'\", \"\\\"\", \"-\", \"?\", \";\", \"=\",\n",
    "                        \"/\", \"\\\\\", \":\", \"(\", \"[\", \")\", \"]\", \"!\", \"ReplaceText\"]\n",
    "\n",
    "    # remove unneeded columns\n",
    "    input_df = input_df.drop([\"up_time\", \"up_event\"], axis=1)\n",
    "\n",
    "    # clean up activity\n",
    "    input_df.loc[~input_df[\"activity\"].isin(ACTIVITY_KEEP), \"activity\"] = \"Move\"\n",
    "    # clean up down_event\n",
    "    input_df.loc[~input_df[\"down_event\"].isin(DOWN_EVENT_KEEP), \"down_event\"] = \"MinorKey\"\n",
    "    # clean up text_change\n",
    "    input_df.loc[~input_df[\"text_change\"].isin(TEXT_CHANGE_KEEP), \"text_change\"] = \"ReplaceText\"\n",
    "\n",
    "    return input_df"
   ],
   "metadata": {
    "collapsed": false
   }
  },
  {
   "cell_type": "code",
   "execution_count": 90,
   "outputs": [
    {
     "data": {
      "text/plain": "text_change\nq              6128208\nReplaceText    1414021\nNoChange        703851\n.                67797\n,                54797\n'                13192\n\"                 4659\n-                 4492\n?                 3507\n;                 2905\n=                 2288\n/                 1354\n\\                 1100\n:                  813\n(                  733\n[                  725\n)                  660\n!                  639\n]                  157\nName: count, dtype: int64"
     },
     "execution_count": 90,
     "metadata": {},
     "output_type": "execute_result"
    }
   ],
   "source": [
    "df = clean_df(data.copy())\n",
    "df[\"text_change\"].value_counts()"
   ],
   "metadata": {
    "collapsed": false
   }
  },
  {
   "cell_type": "code",
   "execution_count": 91,
   "outputs": [
    {
     "name": "stdout",
     "output_type": "stream",
     "text": [
      "6\n",
      "38\n",
      "21\n"
     ]
    }
   ],
   "source": [],
   "metadata": {
    "collapsed": false
   }
  },
  {
   "cell_type": "code",
   "execution_count": null,
   "outputs": [],
   "source": [],
   "metadata": {
    "collapsed": false
   }
  }
 ],
 "metadata": {
  "kernelspec": {
   "display_name": "Python 3",
   "language": "python",
   "name": "python3"
  },
  "language_info": {
   "codemirror_mode": {
    "name": "ipython",
    "version": 2
   },
   "file_extension": ".py",
   "mimetype": "text/x-python",
   "name": "python",
   "nbconvert_exporter": "python",
   "pygments_lexer": "ipython2",
   "version": "2.7.6"
  }
 },
 "nbformat": 4,
 "nbformat_minor": 0
}
